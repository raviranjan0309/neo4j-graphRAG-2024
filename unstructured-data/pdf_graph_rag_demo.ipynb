{
 "cells": [
  {
   "cell_type": "markdown",
   "metadata": {},
   "source": [
    "**Install the required Python packages**\n",
    "\n",
    "```bash\n",
    "pip install -r requirements.txt\n",
    "```\n"
   ]
  },
  {
   "cell_type": "code",
   "execution_count": 1,
   "metadata": {},
   "outputs": [
    {
     "data": {
      "text/plain": [
       "True"
      ]
     },
     "execution_count": 1,
     "metadata": {},
     "output_type": "execute_result"
    }
   ],
   "source": [
    "from typing import List\n",
    "import pandas as pd\n",
    "from neo4j import GraphDatabase\n",
    "from langchain_openai import ChatOpenAI\n",
    "from langchain_community.graphs.neo4j_graph import Neo4jGraph\n",
    "from langchain_community.chains.graph_qa.cypher import GraphCypherQAChain\n",
    "from langchain.document_loaders import PyPDFLoader\n",
    "from langchain.text_splitter import RecursiveCharacterTextSplitter\n",
    "from langchain.schema import Document\n",
    "from langchain.prompts import PromptTemplate\n",
    "from langchain.vectorstores import Neo4jVector\n",
    "from langchain_openai import OpenAIEmbeddings\n",
    "from langchain_experimental.graph_transformers import LLMGraphTransformer\n",
    "import os\n",
    "from dotenv import load_dotenv\n",
    "\n",
    "# Load environment variables\n",
    "load_dotenv()"
   ]
  },
  {
   "cell_type": "code",
   "execution_count": 2,
   "metadata": {},
   "outputs": [],
   "source": [
    "# Neo4j credentials\n",
    "NEO4J_URI = os.getenv(\"NEO4J_URI\", \"bolt://localhost:7687\")\n",
    "NEO4J_USER = os.getenv(\"NEO4J_USER\", \"neo4j\")\n",
    "NEO4J_PASSWORD = os.getenv(\"NEO4J_PASSWORD\")\n",
    "OPENAI_API_KEY = os.getenv(\"OPENAI_API_KEY\")"
   ]
  },
  {
   "cell_type": "code",
   "execution_count": 3,
   "metadata": {},
   "outputs": [],
   "source": [
    "# Initialize Neo4j driver\n",
    "driver = GraphDatabase.driver(NEO4J_URI, auth=(NEO4J_USER, NEO4J_PASSWORD))\n",
    "database = \"pdfgraphrag\"  # Specify custom database name\n",
    "embeddings = OpenAIEmbeddings()\n",
    "neo4j_url=NEO4J_URI\n",
    "neo4j_username=NEO4J_USER\n",
    "neo4j_password=NEO4J_PASSWORD"
   ]
  },
  {
   "cell_type": "code",
   "execution_count": 4,
   "metadata": {},
   "outputs": [
    {
     "name": "stdout",
     "output_type": "stream",
     "text": [
      "Database pdfgraphrag already exists\n",
      "Successfully connected to Neo4j!\n"
     ]
    }
   ],
   "source": [
    "# Create the database if it doesn't exist\n",
    "try:\n",
    "    with driver.session(database=\"system\") as session:\n",
    "        # Check if database exists\n",
    "        result = session.run(\"SHOW DATABASES\")\n",
    "        databases = [record[\"name\"] for record in result]\n",
    "\n",
    "        if database not in databases:\n",
    "            print(f\"Creating database: {database}\")\n",
    "            session.run(f\"CREATE DATABASE {database}\")\n",
    "            print(f\"Database {database} created successfully\")\n",
    "        else:\n",
    "            print(f\"Database {database} already exists\")\n",
    "\n",
    "except Exception as e:\n",
    "    print(f\"Error creating database: {str(e)}\")\n",
    "    raise\n",
    "\n",
    "# Test connection\n",
    "try:\n",
    "    driver.verify_connectivity()\n",
    "    print(\"Successfully connected to Neo4j!\")\n",
    "except Exception as e:\n",
    "    print(f\"Failed to connect to Neo4j: {str(e)}\")\n",
    "    raise\n",
    "\n",
    "# Initialize Neo4jGraph with custom database\n",
    "graph = Neo4jGraph(\n",
    "    url=NEO4J_URI,\n",
    "    username=NEO4J_USER,\n",
    "    password=NEO4J_PASSWORD,\n",
    "    database=database,\n",
    ")"
   ]
  },
  {
   "cell_type": "code",
   "execution_count": 5,
   "metadata": {},
   "outputs": [],
   "source": [
    "# Initialize LLM\n",
    "llm = ChatOpenAI(\n",
    "    temperature=0, model_name=\"gpt-4o\", openai_api_key=OPENAI_API_KEY\n",
    ")\n"
   ]
  },
  {
   "cell_type": "code",
   "execution_count": 6,
   "metadata": {},
   "outputs": [
    {
     "name": "stderr",
     "output_type": "stream",
     "text": [
      "Ignoring wrong pointing object 6 0 (offset 0)\n",
      "Ignoring wrong pointing object 8 0 (offset 0)\n",
      "Ignoring wrong pointing object 10 0 (offset 0)\n",
      "Ignoring wrong pointing object 13 0 (offset 0)\n"
     ]
    }
   ],
   "source": [
    "# Load and split the PDF\n",
    "loader = PyPDFLoader(\"Brief - Chips Ahoy!.pdf\")\n",
    "pages = loader.load_and_split()"
   ]
  },
  {
   "cell_type": "code",
   "execution_count": 7,
   "metadata": {},
   "outputs": [
    {
     "name": "stdout",
     "output_type": "stream",
     "text": [
      "Page 0: page_content='Brand Brief: Chips Ahoy!  Executive Summary: Chips Ahoy! is an iconic cookie brand synonymous with fun, indulgence, and happiness. Baked with irresistible chocolate chips in every bite, these delicious cookies elevate everyday moments into bursts of joy. Whether enjoyed solo or shared with friends, Chips Ahoy! delivers a satisfyingly crunchy and chocolatey experience that resonates particularly with Gen Z consumers. Chip is the brand mascot for Chips Ahoy! Cookies. Brand Description: • Beloved for its irresistible taste and playful spirit. • Creates a burst of happiness and sweetness in everyday moments. • Offers a comforting and satisfyingly crunchy, chocolatey experience. Key Brand Features Tags: • Fun: Chips Ahoy! injects playfulness into snacking, making any moment more enjoyable. • Delicious: Unmatched taste with a perfect balance of sweetness and chocolate that tantalizes taste buds and leaves consumers wanting more. • Happy: Chips Ahoy! strives to be a source of joy, embodied in its colorful packaging, cheerful crunch, and the pure bliss experienced with each bite. Target Audience: • Gen Z: These young adults seek fun, flavor, and a dash of spontaneity in their snacks. They appreciate the brand's vibrant personality and the shareable, social nature of Chips Ahoy! cookies. Communication Channels: • Social Media: Chips Ahoy! Leverages social media platforms to connect with Gen Z on their preferred platforms. Engaging content, influencer partnerships, and interactive challenges maintain the brand's status as a fun and trendy force in the digital space. Strategic Focus: This brand brief emphasizes Chips Ahoy!'s strong appeal to Gen Z consumers. The focus is on the brand's ability to elevate snacking into a joyful experience that aligns with the values and social preferences of this young adult demographic. Social media remains the primary channel for connecting with Gen Z and promoting the brand's message of fun, flavor, and happiness.' metadata={'source': 'Brief - Chips Ahoy!.pdf', 'page': 0}\n"
     ]
    }
   ],
   "source": [
    "for i, page in enumerate(pages):# Check if page is even\n",
    "        print(f\"Page {i}: {page}\")"
   ]
  },
  {
   "cell_type": "code",
   "execution_count": 8,
   "metadata": {},
   "outputs": [],
   "source": [
    "text_splitter = RecursiveCharacterTextSplitter(chunk_size=200, chunk_overlap=40)\n",
    "docs = text_splitter.split_documents(pages)"
   ]
  },
  {
   "cell_type": "code",
   "execution_count": 9,
   "metadata": {},
   "outputs": [],
   "source": [
    "lc_docs = []\n",
    "for doc in docs:\n",
    "    lc_docs.append(Document(page_content=doc.page_content.replace(\"\\n\", \"\"), \n",
    "    metadata={'source': \"Brief - Chips Ahoy!.pdf\"}))"
   ]
  },
  {
   "cell_type": "code",
   "execution_count": 10,
   "metadata": {},
   "outputs": [
    {
     "data": {
      "text/plain": [
       "[]"
      ]
     },
     "execution_count": 10,
     "metadata": {},
     "output_type": "execute_result"
    }
   ],
   "source": [
    "# Clear the graph database\n",
    "cypher = \"\"\"\n",
    "    MATCH (n)\n",
    "    DETACH DELETE n;\n",
    "\"\"\"\n",
    "graph.query(cypher)"
   ]
  },
  {
   "cell_type": "code",
   "execution_count": 11,
   "metadata": {},
   "outputs": [],
   "source": [
    " # Define allowed nodes and relationships\n",
    "allowed_nodes = [\"Brand\", \"Character\", \"Characteristic\", \"Communication Channel\", \n",
    "                 \"Concept\", \"Demographic\",\"Mascot\", \"Person\", \"Product\"]\n",
    "allowed_relationships = [\"GIVES\", \"HAS_CHARACTERISTIC\", \"HAS_MASCOT\", \"REPRESENTS\", \"TARGETS\", \"USES_CHANNEL\"]"
   ]
  },
  {
   "cell_type": "code",
   "execution_count": 12,
   "metadata": {},
   "outputs": [],
   "source": [
    "# Transform documents into graph documents\n",
    "transformer = LLMGraphTransformer(\n",
    "    llm=llm,\n",
    "    allowed_nodes=allowed_nodes,\n",
    "    allowed_relationships=allowed_relationships,\n",
    "    node_properties=False, \n",
    "    relationship_properties=False\n",
    ") \n"
   ]
  },
  {
   "cell_type": "code",
   "execution_count": 13,
   "metadata": {},
   "outputs": [],
   "source": [
    "graph_documents = transformer.convert_to_graph_documents(lc_docs)\n",
    "graph.add_graph_documents(graph_documents, include_source=True)"
   ]
  },
  {
   "cell_type": "code",
   "execution_count": 14,
   "metadata": {},
   "outputs": [],
   "source": [
    " # Use the stored connection parameters\n",
    "index = Neo4jVector.from_existing_graph(\n",
    "    embedding=embeddings,\n",
    "    url=neo4j_url,\n",
    "    username=neo4j_username,\n",
    "    password=neo4j_password,\n",
    "    database=database,\n",
    "    node_label=\"Brand\",  # Adjust node_label as needed\n",
    "    text_node_properties=[\"id\", \"text\"], \n",
    "    embedding_node_property=\"embedding\", \n",
    "    index_name=\"vector_index\", \n",
    "    keyword_index_name=\"entity_index\", \n",
    "    search_type=\"hybrid\" \n",
    ")\n"
   ]
  },
  {
   "cell_type": "code",
   "execution_count": 15,
   "metadata": {},
   "outputs": [
    {
     "name": "stdout",
     "output_type": "stream",
     "text": [
      "Node properties:\n",
      "Document {id: STRING, text: STRING, source: STRING}\n",
      "Brand {id: STRING, embedding: LIST}\n",
      "Characteristic {id: STRING}\n",
      "Product {id: STRING}\n",
      "Demographic {id: STRING}\n",
      "Mascot {id: STRING}\n",
      "Communication channel {id: STRING}\n",
      "Concept {id: STRING}\n",
      "Relationship properties:\n",
      "\n",
      "The relationships:\n",
      "(:Document)-[:MENTIONS]->(:Brand)\n",
      "(:Document)-[:MENTIONS]->(:Characteristic)\n",
      "(:Document)-[:MENTIONS]->(:Product)\n",
      "(:Document)-[:MENTIONS]->(:Mascot)\n",
      "(:Document)-[:MENTIONS]->(:Demographic)\n",
      "(:Document)-[:MENTIONS]->(:Communication channel)\n",
      "(:Document)-[:MENTIONS]->(:Concept)\n",
      "(:Brand)-[:HAS_CHARACTERISTIC]->(:Characteristic)\n",
      "(:Brand)-[:USES_CHANNEL]->(:Communication channel)\n",
      "(:Brand)-[:USES_CHANNEL]->(:Concept)\n",
      "(:Brand)-[:TARGETS]->(:Demographic)\n",
      "(:Brand)-[:HAS_MASCOT]->(:Mascot)\n",
      "(:Brand)-[:REPRESENTS]->(:Concept)\n",
      "(:Characteristic)-[:TARGETS]->(:Demographic)\n",
      "(:Characteristic)-[:HAS_CHARACTERISTIC]->(:Characteristic)\n",
      "(:Product)-[:HAS_CHARACTERISTIC]->(:Characteristic)\n",
      "(:Demographic)-[:HAS_CHARACTERISTIC]->(:Characteristic)\n",
      "(:Communication channel)-[:USES_CHANNEL]->(:Demographic)\n",
      "(:Concept)-[:HAS_CHARACTERISTIC]->(:Characteristic)\n",
      "(:Concept)-[:TARGETS]->(:Demographic)\n"
     ]
    }
   ],
   "source": [
    "# Retrieve the graph schema\n",
    "graph.refresh_schema()\n",
    "schema = graph.get_schema\n",
    "print(schema)"
   ]
  },
  {
   "cell_type": "code",
   "execution_count": 16,
   "metadata": {},
   "outputs": [],
   "source": [
    "def setup_qa_chain():\n",
    "        \"\"\"Set up the question-answering chain\"\"\"\n",
    "        try:\n",
    "            qa_chain = GraphCypherQAChain.from_llm(\n",
    "                llm=llm,\n",
    "                graph=graph,\n",
    "                verbose=True,\n",
    "                allow_dangerous_requests=True,\n",
    "                top_k=10,  # Return more results\n",
    "            )\n",
    "            print(\"Successfully set up QA chain\")\n",
    "            return qa_chain\n",
    "        except Exception as e:\n",
    "            print(f\"Error setting up QA chain: {str(e)}\")\n",
    "            raise"
   ]
  },
  {
   "cell_type": "code",
   "execution_count": 17,
   "metadata": {},
   "outputs": [],
   "source": [
    "def ask_question(qa_chain, question: str) -> str:\n",
    "        \"\"\"Ask a question about the mobile usage data\"\"\"\n",
    "        try:\n",
    "            return qa_chain.invoke(question)\n",
    "        except Exception as e:\n",
    "            print(f\"Error processing question: {str(e)}\")\n",
    "            return f\"Error: {str(e)}\""
   ]
  },
  {
   "cell_type": "code",
   "execution_count": 18,
   "metadata": {},
   "outputs": [],
   "source": [
    "def cleanup_database():\n",
    "        \"\"\"Clean up the database when done\"\"\"\n",
    "        try:\n",
    "            with driver.session(database=\"system\") as session:\n",
    "                # Stop the database before dropping\n",
    "                session.run(f\"STOP DATABASE {database}\")\n",
    "                # Drop the database\n",
    "                session.run(f\"DROP DATABASE {database} IF EXISTS\")\n",
    "                print(f\"Database {database} cleaned up successfully\")\n",
    "        except Exception as e:\n",
    "            print(f\"Error cleaning up database: {str(e)}\")"
   ]
  },
  {
   "cell_type": "code",
   "execution_count": 19,
   "metadata": {},
   "outputs": [],
   "source": [
    "def close():\n",
    "        \"\"\"Close the Neo4j connection\"\"\"\n",
    "        try:\n",
    "            # cleanup_database()  # Clean up the database\n",
    "            driver.close()\n",
    "            print(\"Successfully closed Neo4j connection\")\n",
    "        except Exception as e:\n",
    "            print(f\"Error closing Neo4j connection: {str(e)}\")"
   ]
  },
  {
   "cell_type": "code",
   "execution_count": 20,
   "metadata": {},
   "outputs": [
    {
     "name": "stdout",
     "output_type": "stream",
     "text": [
      "\n",
      "Setting up QA chain...\n",
      "Successfully set up QA chain\n",
      "\n",
      "Processing questions...\n",
      "\n",
      "Question: What is the brand?\n",
      "\n",
      "\n",
      "\u001b[1m> Entering new GraphCypherQAChain chain...\u001b[0m\n",
      "Generated Cypher:\n",
      "\u001b[32;1m\u001b[1;3mcypher\n",
      "MATCH (b:Brand)\n",
      "RETURN b.id\n",
      "\u001b[0m\n",
      "Full Context:\n",
      "\u001b[32;1m\u001b[1;3m[{'b.id': 'Chips Ahoy!'}, {'b.id': 'Chips Ahoy! Cookies'}, {'b.id': 'Brand'}]\u001b[0m\n",
      "\n",
      "\u001b[1m> Finished chain.\u001b[0m\n",
      "Answer: {'query': 'What is the brand?', 'result': 'Chips Ahoy! is the brand.'}\n",
      "\n",
      "Question: Who are the Target Audience?\n",
      "\n",
      "\n",
      "\u001b[1m> Entering new GraphCypherQAChain chain...\u001b[0m\n",
      "Generated Cypher:\n",
      "\u001b[32;1m\u001b[1;3mcypher\n",
      "MATCH (d:Demographic)\n",
      "RETURN d.id\n",
      "\u001b[0m\n",
      "Full Context:\n",
      "\u001b[32;1m\u001b[1;3m[{'d.id': 'Gen Z'}, {'d.id': 'Young Adult Demographic'}]\u001b[0m\n",
      "\n",
      "\u001b[1m> Finished chain.\u001b[0m\n",
      "Answer: {'query': 'Who are the Target Audience?', 'result': 'Gen Z, Young Adult Demographic are the target audience.'}\n",
      "\n",
      "Question: What is Strategic Focus of the campaign?\n",
      "\n",
      "\n",
      "\u001b[1m> Entering new GraphCypherQAChain chain...\u001b[0m\n",
      "Generated Cypher:\n",
      "\u001b[32;1m\u001b[1;3mcypher\n",
      "MATCH (b:Brand)-[:REPRESENTS]->(c:Concept)\n",
      "RETURN c.id AS StrategicFocus\n",
      "\u001b[0m\n",
      "Full Context:\n",
      "\u001b[32;1m\u001b[1;3m[{'StrategicFocus': 'Digital Space'}]\u001b[0m\n",
      "\n",
      "\u001b[1m> Finished chain.\u001b[0m\n",
      "Answer: {'query': 'What is Strategic Focus of the campaign?', 'result': 'The Strategic Focus of the campaign is Digital Space.'}\n",
      "\n",
      "Closing connections...\n",
      "Successfully closed Neo4j connection\n"
     ]
    }
   ],
   "source": [
    "try:\n",
    "\n",
    "    # Setup the QA chain\n",
    "    print(\"\\nSetting up QA chain...\")\n",
    "    qa_chain = setup_qa_chain()\n",
    "\n",
    "    # Example questions specific to the dataset\n",
    "    questions = [\n",
    "    \"What is the brand?\",\n",
    "    \"Who are the Target Audience?\",\n",
    "    \"What is Strategic Focus of the campaign?\",\n",
    "    ]\n",
    "\n",
    "\n",
    "    # Ask questions\n",
    "    print(\"\\nProcessing questions...\")\n",
    "    for question in questions:\n",
    "        print(f\"\\nQuestion: {question}\")\n",
    "        answer = ask_question(qa_chain,question)\n",
    "        print(f\"Answer: {answer}\")\n",
    "\n",
    "except Exception as e:\n",
    "    print(f\"An error occurred: {str(e)}\")\n",
    "finally:\n",
    "        print(\"\\nClosing connections...\")\n",
    "        close()"
   ]
  },
  {
   "cell_type": "code",
   "execution_count": null,
   "metadata": {},
   "outputs": [],
   "source": []
  }
 ],
 "metadata": {
  "kernelspec": {
   "display_name": "graphrag",
   "language": "python",
   "name": "python3"
  },
  "language_info": {
   "codemirror_mode": {
    "name": "ipython",
    "version": 3
   },
   "file_extension": ".py",
   "mimetype": "text/x-python",
   "name": "python",
   "nbconvert_exporter": "python",
   "pygments_lexer": "ipython3",
   "version": "3.12.5"
  }
 },
 "nbformat": 4,
 "nbformat_minor": 2
}
